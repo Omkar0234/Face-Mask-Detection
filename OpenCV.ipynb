{
 "cells": [
  {
   "cell_type": "code",
   "execution_count": 1,
   "metadata": {},
   "outputs": [
    {
     "name": "stdout",
     "output_type": "stream",
     "text": [
      "Requirement already satisfied: opencv-python in c:\\users\\admin\\anaconda3\\lib\\site-packages (4.5.2.52)\n",
      "Requirement already satisfied: numpy>=1.17.3 in c:\\users\\admin\\anaconda3\\lib\\site-packages (from opencv-python) (1.19.2)\n"
     ]
    }
   ],
   "source": [
    "!pip install opencv-python"
   ]
  },
  {
   "cell_type": "code",
   "execution_count": 2,
   "metadata": {},
   "outputs": [],
   "source": [
    "import cv2"
   ]
  },
  {
   "cell_type": "code",
   "execution_count": 3,
   "metadata": {},
   "outputs": [],
   "source": [
    " img = cv2.imread('msd.jpg')"
   ]
  },
  {
   "cell_type": "code",
   "execution_count": 4,
   "metadata": {},
   "outputs": [
    {
     "data": {
      "text/plain": [
       "(192, 192, 3)"
      ]
     },
     "execution_count": 4,
     "metadata": {},
     "output_type": "execute_result"
    }
   ],
   "source": [
    "img.shape"
   ]
  },
  {
   "cell_type": "code",
   "execution_count": 8,
   "metadata": {},
   "outputs": [
    {
     "data": {
      "text/plain": [
       "array([[254, 255, 251],\n",
       "       [254, 255, 251],\n",
       "       [254, 255, 251],\n",
       "       [254, 255, 251],\n",
       "       [254, 255, 251],\n",
       "       [254, 255, 251],\n",
       "       [254, 255, 251],\n",
       "       [254, 255, 251],\n",
       "       [254, 255, 251],\n",
       "       [254, 255, 251],\n",
       "       [254, 255, 251],\n",
       "       [254, 255, 251],\n",
       "       [254, 255, 251],\n",
       "       [254, 255, 251],\n",
       "       [254, 255, 251],\n",
       "       [254, 255, 251],\n",
       "       [254, 255, 251],\n",
       "       [254, 255, 251],\n",
       "       [254, 255, 251],\n",
       "       [254, 255, 251],\n",
       "       [254, 255, 251],\n",
       "       [254, 255, 251],\n",
       "       [254, 255, 251],\n",
       "       [254, 255, 251],\n",
       "       [254, 255, 251],\n",
       "       [254, 255, 251],\n",
       "       [254, 255, 251],\n",
       "       [254, 255, 251],\n",
       "       [254, 255, 251],\n",
       "       [254, 255, 251],\n",
       "       [254, 255, 251],\n",
       "       [254, 255, 251],\n",
       "       [254, 255, 251],\n",
       "       [254, 255, 251],\n",
       "       [254, 255, 251],\n",
       "       [254, 255, 251],\n",
       "       [254, 255, 251],\n",
       "       [254, 255, 251],\n",
       "       [254, 255, 251],\n",
       "       [254, 255, 251],\n",
       "       [254, 255, 251],\n",
       "       [254, 255, 251],\n",
       "       [254, 255, 251],\n",
       "       [254, 255, 251],\n",
       "       [254, 255, 251],\n",
       "       [254, 255, 251],\n",
       "       [254, 255, 251],\n",
       "       [254, 255, 251],\n",
       "       [254, 255, 251],\n",
       "       [254, 255, 251],\n",
       "       [254, 255, 251],\n",
       "       [254, 255, 251],\n",
       "       [254, 255, 251],\n",
       "       [254, 255, 251],\n",
       "       [254, 255, 251],\n",
       "       [254, 255, 251],\n",
       "       [254, 255, 251],\n",
       "       [254, 255, 251],\n",
       "       [254, 255, 251],\n",
       "       [254, 255, 251],\n",
       "       [254, 255, 251],\n",
       "       [254, 255, 251],\n",
       "       [254, 255, 251],\n",
       "       [254, 255, 251],\n",
       "       [254, 254, 254],\n",
       "       [254, 254, 254],\n",
       "       [254, 254, 254],\n",
       "       [254, 254, 254],\n",
       "       [254, 254, 254],\n",
       "       [254, 254, 254],\n",
       "       [254, 254, 254],\n",
       "       [254, 254, 254],\n",
       "       [254, 254, 254],\n",
       "       [254, 254, 254],\n",
       "       [254, 254, 254],\n",
       "       [254, 254, 254],\n",
       "       [254, 254, 254],\n",
       "       [254, 254, 254],\n",
       "       [254, 254, 254],\n",
       "       [254, 254, 254],\n",
       "       [254, 254, 254],\n",
       "       [254, 254, 254],\n",
       "       [254, 254, 254],\n",
       "       [254, 254, 254],\n",
       "       [254, 254, 254],\n",
       "       [254, 254, 254],\n",
       "       [254, 254, 254],\n",
       "       [254, 254, 254],\n",
       "       [254, 254, 254],\n",
       "       [254, 254, 254],\n",
       "       [254, 254, 254],\n",
       "       [254, 254, 254],\n",
       "       [254, 254, 254],\n",
       "       [254, 254, 254],\n",
       "       [254, 254, 254],\n",
       "       [254, 254, 254],\n",
       "       [254, 254, 254],\n",
       "       [254, 254, 254],\n",
       "       [254, 254, 254],\n",
       "       [254, 254, 254],\n",
       "       [254, 254, 254],\n",
       "       [254, 254, 254],\n",
       "       [254, 254, 254],\n",
       "       [254, 254, 254],\n",
       "       [254, 254, 254],\n",
       "       [254, 254, 254],\n",
       "       [254, 254, 254],\n",
       "       [254, 254, 254],\n",
       "       [254, 254, 254],\n",
       "       [254, 254, 254],\n",
       "       [254, 254, 254],\n",
       "       [254, 254, 254],\n",
       "       [254, 254, 254],\n",
       "       [254, 254, 254],\n",
       "       [254, 254, 254],\n",
       "       [254, 254, 254],\n",
       "       [254, 254, 254],\n",
       "       [254, 254, 254],\n",
       "       [254, 254, 254],\n",
       "       [254, 254, 254],\n",
       "       [254, 254, 254],\n",
       "       [254, 254, 254],\n",
       "       [254, 254, 254],\n",
       "       [254, 254, 254],\n",
       "       [254, 254, 254],\n",
       "       [254, 254, 254],\n",
       "       [254, 254, 254],\n",
       "       [254, 254, 254],\n",
       "       [254, 254, 254],\n",
       "       [254, 254, 254],\n",
       "       [254, 254, 254],\n",
       "       [254, 254, 254],\n",
       "       [254, 254, 254],\n",
       "       [254, 254, 254],\n",
       "       [254, 254, 254],\n",
       "       [254, 254, 254],\n",
       "       [254, 254, 254],\n",
       "       [254, 254, 254],\n",
       "       [254, 254, 254],\n",
       "       [254, 254, 254],\n",
       "       [254, 254, 254],\n",
       "       [254, 254, 254],\n",
       "       [254, 254, 254],\n",
       "       [254, 254, 254],\n",
       "       [254, 254, 254],\n",
       "       [254, 254, 254],\n",
       "       [254, 254, 254],\n",
       "       [254, 254, 254],\n",
       "       [254, 254, 254],\n",
       "       [254, 254, 254],\n",
       "       [254, 254, 254],\n",
       "       [254, 254, 254],\n",
       "       [254, 254, 254],\n",
       "       [254, 254, 254],\n",
       "       [254, 254, 254],\n",
       "       [254, 254, 254],\n",
       "       [254, 254, 254],\n",
       "       [254, 254, 254],\n",
       "       [254, 254, 254],\n",
       "       [254, 254, 254],\n",
       "       [254, 254, 254],\n",
       "       [254, 254, 254],\n",
       "       [254, 254, 254],\n",
       "       [254, 254, 254],\n",
       "       [254, 254, 254],\n",
       "       [254, 254, 254],\n",
       "       [254, 254, 254],\n",
       "       [254, 254, 254],\n",
       "       [254, 254, 254],\n",
       "       [254, 254, 254],\n",
       "       [254, 254, 254],\n",
       "       [254, 254, 254],\n",
       "       [254, 254, 254],\n",
       "       [254, 254, 254],\n",
       "       [254, 254, 254],\n",
       "       [254, 254, 254],\n",
       "       [254, 254, 254],\n",
       "       [254, 254, 254],\n",
       "       [254, 254, 254],\n",
       "       [254, 254, 254],\n",
       "       [254, 254, 254],\n",
       "       [254, 254, 254],\n",
       "       [254, 254, 254],\n",
       "       [254, 254, 254],\n",
       "       [254, 254, 254],\n",
       "       [254, 254, 254],\n",
       "       [254, 254, 254],\n",
       "       [254, 254, 254],\n",
       "       [254, 254, 254],\n",
       "       [254, 254, 254],\n",
       "       [254, 254, 254],\n",
       "       [254, 254, 254]], dtype=uint8)"
      ]
     },
     "execution_count": 8,
     "metadata": {},
     "output_type": "execute_result"
    }
   ],
   "source": [
    "img[0]"
   ]
  },
  {
   "cell_type": "code",
   "execution_count": 9,
   "metadata": {},
   "outputs": [],
   "source": [
    "import matplotlib.pyplot as plt"
   ]
  },
  {
   "cell_type": "code",
   "execution_count": 10,
   "metadata": {},
   "outputs": [
    {
     "data": {
      "text/plain": [
       "<matplotlib.image.AxesImage at 0x83543a0>"
      ]
     },
     "execution_count": 10,
     "metadata": {},
     "output_type": "execute_result"
    },
    {
     "data": {
      "image/png": "[encoded data removed]",
      "text/plain": [
       "<Figure size 432x288 with 1 Axes>"
      ]
     },
     "metadata": {
      "needs_background": "light"
     },
     "output_type": "display_data"
    }
   ],
   "source": [
    "plt.imshow(img)"
   ]
  },
  {
   "cell_type": "code",
   "execution_count": 11,
   "metadata": {},
   "outputs": [],
   "source": [
    "while True:\n",
    "    cv2.imshow('op',img)\n",
    "    if cv2.waitKey(2) == 27:\n",
    "        break\n",
    "cv2.destroyAllWindows()"
   ]
  },
  {
   "cell_type": "code",
   "execution_count": 12,
   "metadata": {},
   "outputs": [],
   "source": [
    "haar_data = cv2.CascadeClassifier('data.xml')"
   ]
  },
  {
   "cell_type": "code",
   "execution_count": 13,
   "metadata": {},
   "outputs": [
    {
     "data": {
      "text/plain": [
       "array([[49, 48, 93, 93]], dtype=int32)"
      ]
     },
     "execution_count": 13,
     "metadata": {},
     "output_type": "execute_result"
    }
   ],
   "source": [
    "haar_data.detectMultiScale(img)"
   ]
  },
  {
   "cell_type": "code",
   "execution_count": 11,
   "metadata": {},
   "outputs": [],
   "source": [
    "while True:\n",
    "    faces = haar_data.detectMultiScale(img)\n",
    "    for x,y,w,h in faces:\n",
    "        cv2.rectangle(img, (x,y), (x+w,y+h), (255,0,255), 4)\n",
    "    cv2.imshow('op',img)\n",
    "    if cv2.waitKey(2) == 27:\n",
    "        break\n",
    "cv2.destroyAllWindows()"
   ]
  },
  {
   "cell_type": "code",
   "execution_count": 18,
   "metadata": {},
   "outputs": [
    {
     "name": "stdout",
     "output_type": "stream",
     "text": [
      "0\n",
      "1\n",
      "2\n",
      "3\n",
      "4\n",
      "5\n",
      "6\n",
      "7\n",
      "8\n",
      "9\n",
      "10\n",
      "11\n",
      "12\n",
      "13\n",
      "14\n",
      "15\n",
      "16\n",
      "17\n",
      "18\n",
      "19\n",
      "20\n",
      "21\n",
      "22\n",
      "23\n",
      "24\n",
      "25\n",
      "26\n",
      "27\n",
      "28\n",
      "29\n",
      "30\n",
      "31\n",
      "32\n",
      "33\n",
      "34\n",
      "35\n",
      "36\n",
      "37\n",
      "38\n",
      "39\n",
      "40\n",
      "41\n",
      "42\n",
      "43\n",
      "44\n",
      "45\n",
      "46\n",
      "47\n",
      "48\n",
      "49\n",
      "50\n",
      "51\n",
      "52\n",
      "53\n",
      "54\n",
      "55\n",
      "56\n",
      "57\n",
      "58\n",
      "59\n",
      "60\n",
      "61\n",
      "62\n",
      "63\n",
      "64\n",
      "65\n",
      "66\n",
      "67\n",
      "68\n",
      "69\n",
      "70\n",
      "71\n",
      "72\n",
      "73\n",
      "74\n",
      "75\n",
      "76\n",
      "77\n",
      "78\n",
      "79\n",
      "80\n",
      "81\n",
      "82\n",
      "83\n",
      "84\n",
      "85\n",
      "86\n",
      "87\n",
      "88\n",
      "89\n",
      "90\n",
      "91\n",
      "92\n",
      "93\n",
      "94\n",
      "95\n",
      "96\n",
      "97\n",
      "98\n",
      "99\n",
      "100\n",
      "101\n",
      "102\n",
      "103\n",
      "104\n",
      "105\n",
      "106\n",
      "107\n",
      "108\n",
      "109\n",
      "110\n",
      "111\n",
      "112\n",
      "113\n",
      "114\n",
      "115\n",
      "116\n",
      "117\n",
      "118\n",
      "119\n",
      "120\n",
      "121\n",
      "122\n",
      "123\n",
      "124\n",
      "125\n",
      "126\n",
      "127\n",
      "128\n",
      "129\n",
      "130\n",
      "131\n",
      "132\n",
      "133\n",
      "134\n",
      "135\n",
      "136\n",
      "137\n",
      "138\n",
      "139\n",
      "140\n",
      "141\n",
      "142\n",
      "143\n",
      "144\n",
      "145\n",
      "146\n",
      "147\n",
      "148\n",
      "149\n",
      "150\n",
      "151\n",
      "152\n",
      "153\n",
      "154\n",
      "155\n",
      "156\n",
      "157\n",
      "158\n",
      "159\n",
      "160\n",
      "161\n",
      "162\n",
      "163\n",
      "164\n",
      "165\n",
      "166\n",
      "167\n",
      "168\n",
      "169\n",
      "170\n",
      "171\n",
      "172\n",
      "173\n",
      "174\n",
      "175\n",
      "176\n",
      "177\n",
      "178\n",
      "179\n",
      "180\n",
      "181\n",
      "182\n",
      "183\n",
      "184\n",
      "185\n",
      "186\n",
      "187\n",
      "188\n",
      "189\n",
      "190\n",
      "191\n",
      "192\n",
      "193\n",
      "194\n",
      "195\n",
      "196\n",
      "197\n",
      "198\n",
      "199\n",
      "200\n"
     ]
    }
   ],
   "source": [
    "capture = cv2.VideoCapture(0,cv2.CAP_DSHOW)\n",
    "data = []\n",
    "while True:\n",
    "    flag, img = capture.read()\n",
    "    if flag:\n",
    "        faces = haar_data.detectMultiScale(img)\n",
    "        for x,y,w,h in faces:\n",
    "            cv2.rectangle(img, (x,y), (x+w,y+h), (255,0,255), 4)\n",
    "            face = img[y:y+h, x:x+w, : ]\n",
    "            face = cv2.resize(face, (50,50))\n",
    "            print(len(data))\n",
    "            if len(data) < 400:\n",
    "                data.append(face)\n",
    "        cv2.imshow('op',img)\n",
    "        if cv2.waitKey(2) == 27 or len(data) >= 200:\n",
    "            break\n",
    "        \n",
    "capture.release()\n",
    "cv2.destroyAllWindows()"
   ]
  },
  {
   "cell_type": "code",
   "execution_count": 14,
   "metadata": {},
   "outputs": [],
   "source": [
    "import numpy as np"
   ]
  },
  {
   "cell_type": "code",
   "execution_count": 17,
   "metadata": {},
   "outputs": [],
   "source": [
    "np.save('without_mask.npy', data)"
   ]
  },
  {
   "cell_type": "code",
   "execution_count": 19,
   "metadata": {},
   "outputs": [],
   "source": [
    "np.save('with_mask.npy', data)"
   ]
  },
  {
   "cell_type": "code",
   "execution_count": 22,
   "metadata": {},
   "outputs": [
    {
     "data": {
      "text/plain": [
       "<matplotlib.image.AxesImage at 0x5681640>"
      ]
     },
     "execution_count": 22,
     "metadata": {},
     "output_type": "execute_result"
    },
    {
     "data": {
      "image/png": "[encoded data removed]",
      "text/plain": [
       "<Figure size 432x288 with 1 Axes>"
      ]
     },
     "metadata": {
      "needs_background": "light"
     },
     "output_type": "display_data"
    }
   ],
   "source": [
    "plt.imshow(data[198])"
   ]
  },
  {
   "cell_type": "code",
   "execution_count": null,
   "metadata": {},
   "outputs": [],
   "source": []
  }
 ],
 "metadata": {
  "kernelspec": {
   "display_name": "Python 3",
   "language": "python",
   "name": "python3"
  },
  "language_info": {
   "codemirror_mode": {
    "name": "ipython",
    "version": 3
   },
   "file_extension": ".py",
   "mimetype": "text/x-python",
   "name": "python",
   "nbconvert_exporter": "python",
   "pygments_lexer": "ipython3",
   "version": "3.8.5"
  }
 },
 "nbformat": 4,
 "nbformat_minor": 4
}
